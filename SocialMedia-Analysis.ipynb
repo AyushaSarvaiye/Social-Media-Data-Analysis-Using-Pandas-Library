{
 "cells": [
  {
   "cell_type": "code",
   "execution_count": 1,
   "id": "a8d089e7-ba9a-4af1-8a09-befe3111b97f",
   "metadata": {},
   "outputs": [
    {
     "name": "stdout",
     "output_type": "stream",
     "text": [
      "     Student_ID  Age  Gender Academic_Level     Country  \\\n",
      "0             1   19  Female  Undergraduate  Bangladesh   \n",
      "1             2   22    Male       Graduate       India   \n",
      "2             3   20  Female  Undergraduate         USA   \n",
      "3             4   18    Male    High School          UK   \n",
      "4             5   21    Male       Graduate      Canada   \n",
      "..          ...  ...     ...            ...         ...   \n",
      "700         701   20  Female  Undergraduate       Italy   \n",
      "701         702   23    Male       Graduate      Russia   \n",
      "702         703   21  Female  Undergraduate       China   \n",
      "703         704   24    Male       Graduate       Japan   \n",
      "704         705   19  Female  Undergraduate      Poland   \n",
      "\n",
      "     Avg_Daily_Usage_Hours Most_Used_Platform Affects_Academic_Performance  \\\n",
      "0                      5.2          Instagram                          Yes   \n",
      "1                      2.1            Twitter                           No   \n",
      "2                      6.0             TikTok                          Yes   \n",
      "3                      3.0            YouTube                           No   \n",
      "4                      4.5           Facebook                          Yes   \n",
      "..                     ...                ...                          ...   \n",
      "700                    4.7             TikTok                           No   \n",
      "701                    6.8          Instagram                          Yes   \n",
      "702                    5.6             WeChat                          Yes   \n",
      "703                    4.3            Twitter                           No   \n",
      "704                    6.2           Facebook                          Yes   \n",
      "\n",
      "     Sleep_Hours_Per_Night  Mental_Health_Score Relationship_Status  \\\n",
      "0                      6.5                    6     In Relationship   \n",
      "1                      7.5                    8              Single   \n",
      "2                      5.0                    5         Complicated   \n",
      "3                      7.0                    7              Single   \n",
      "4                      6.0                    6     In Relationship   \n",
      "..                     ...                  ...                 ...   \n",
      "700                    7.2                    7     In Relationship   \n",
      "701                    5.9                    4              Single   \n",
      "702                    6.7                    6     In Relationship   \n",
      "703                    7.5                    8              Single   \n",
      "704                    6.3                    5              Single   \n",
      "\n",
      "     Conflicts_Over_Social_Media  Addicted_Score  \n",
      "0                              3               8  \n",
      "1                              0               3  \n",
      "2                              4               9  \n",
      "3                              1               4  \n",
      "4                              2               7  \n",
      "..                           ...             ...  \n",
      "700                            2               5  \n",
      "701                            5               9  \n",
      "702                            3               7  \n",
      "703                            2               4  \n",
      "704                            4               8  \n",
      "\n",
      "[705 rows x 13 columns]\n"
     ]
    }
   ],
   "source": [
    "#Import Data From CSV file\n",
    "import pandas as pd\n",
    "\n",
    "df = pd.read_csv(r\"C:\\Users\\Ayusha\\Documents\\Social Media.csv\")\n",
    "print(df)"
   ]
  },
  {
   "cell_type": "code",
   "execution_count": 2,
   "id": "7ec071dc-e6aa-40d6-80c8-ac04dd9e5134",
   "metadata": {},
   "outputs": [
    {
     "name": "stdout",
     "output_type": "stream",
     "text": [
      "     Student_ID  Age  Gender Academic_Level     Country  \\\n",
      "0             1   19  Female  Undergraduate  Bangladesh   \n",
      "1             2   22    Male       Graduate       India   \n",
      "2             3   20  Female  Undergraduate         USA   \n",
      "3             4   18    Male    High School          UK   \n",
      "4             5   21    Male       Graduate      Canada   \n",
      "..          ...  ...     ...            ...         ...   \n",
      "700         701   20  Female  Undergraduate       Italy   \n",
      "701         702   23    Male       Graduate      Russia   \n",
      "702         703   21  Female  Undergraduate       China   \n",
      "703         704   24    Male       Graduate       Japan   \n",
      "704         705   19  Female  Undergraduate      Poland   \n",
      "\n",
      "     Avg_Daily_Usage_Hours Most_Used_Platform Affects_Academic_Performance  \\\n",
      "0                      5.2          Instagram                          Yes   \n",
      "1                      2.1            Twitter                           No   \n",
      "2                      6.0             TikTok                          Yes   \n",
      "3                      3.0            YouTube                           No   \n",
      "4                      4.5           Facebook                          Yes   \n",
      "..                     ...                ...                          ...   \n",
      "700                    4.7             TikTok                           No   \n",
      "701                    6.8          Instagram                          Yes   \n",
      "702                    5.6             WeChat                          Yes   \n",
      "703                    4.3            Twitter                           No   \n",
      "704                    6.2           Facebook                          Yes   \n",
      "\n",
      "     Sleep_Hours_Per_Night  Mental_Health_Score Relationship_Status  \\\n",
      "0                      6.5                    6     In Relationship   \n",
      "1                      7.5                    8              Single   \n",
      "2                      5.0                    5         Complicated   \n",
      "3                      7.0                    7              Single   \n",
      "4                      6.0                    6     In Relationship   \n",
      "..                     ...                  ...                 ...   \n",
      "700                    7.2                    7     In Relationship   \n",
      "701                    5.9                    4              Single   \n",
      "702                    6.7                    6     In Relationship   \n",
      "703                    7.5                    8              Single   \n",
      "704                    6.3                    5              Single   \n",
      "\n",
      "     Conflicts_Over_Social_Media  Addicted_Score  \n",
      "0                              3               8  \n",
      "1                              0               3  \n",
      "2                              4               9  \n",
      "3                              1               4  \n",
      "4                              2               7  \n",
      "..                           ...             ...  \n",
      "700                            2               5  \n",
      "701                            5               9  \n",
      "702                            3               7  \n",
      "703                            2               4  \n",
      "704                            4               8  \n",
      "\n",
      "[705 rows x 13 columns]\n"
     ]
    },
    {
     "data": {
      "text/html": [
       "<div>\n",
       "<style scoped>\n",
       "    .dataframe tbody tr th:only-of-type {\n",
       "        vertical-align: middle;\n",
       "    }\n",
       "\n",
       "    .dataframe tbody tr th {\n",
       "        vertical-align: top;\n",
       "    }\n",
       "\n",
       "    .dataframe thead th {\n",
       "        text-align: right;\n",
       "    }\n",
       "</style>\n",
       "<table border=\"1\" class=\"dataframe\">\n",
       "  <thead>\n",
       "    <tr style=\"text-align: right;\">\n",
       "      <th></th>\n",
       "      <th>Student_ID</th>\n",
       "      <th>Age</th>\n",
       "      <th>Gender</th>\n",
       "      <th>Academic_Level</th>\n",
       "      <th>Country</th>\n",
       "      <th>Avg_Daily_Usage_Hours</th>\n",
       "      <th>Most_Used_Platform</th>\n",
       "      <th>Affects_Academic_Performance</th>\n",
       "      <th>Sleep_Hours_Per_Night</th>\n",
       "      <th>Mental_Health_Score</th>\n",
       "      <th>Relationship_Status</th>\n",
       "      <th>Conflicts_Over_Social_Media</th>\n",
       "      <th>Addicted_Score</th>\n",
       "    </tr>\n",
       "  </thead>\n",
       "  <tbody>\n",
       "    <tr>\n",
       "      <th>0</th>\n",
       "      <td>1</td>\n",
       "      <td>19</td>\n",
       "      <td>Female</td>\n",
       "      <td>Undergraduate</td>\n",
       "      <td>Bangladesh</td>\n",
       "      <td>5.2</td>\n",
       "      <td>Instagram</td>\n",
       "      <td>Yes</td>\n",
       "      <td>6.5</td>\n",
       "      <td>6</td>\n",
       "      <td>In Relationship</td>\n",
       "      <td>3</td>\n",
       "      <td>8</td>\n",
       "    </tr>\n",
       "    <tr>\n",
       "      <th>1</th>\n",
       "      <td>2</td>\n",
       "      <td>22</td>\n",
       "      <td>Male</td>\n",
       "      <td>Graduate</td>\n",
       "      <td>India</td>\n",
       "      <td>2.1</td>\n",
       "      <td>Twitter</td>\n",
       "      <td>No</td>\n",
       "      <td>7.5</td>\n",
       "      <td>8</td>\n",
       "      <td>Single</td>\n",
       "      <td>0</td>\n",
       "      <td>3</td>\n",
       "    </tr>\n",
       "    <tr>\n",
       "      <th>2</th>\n",
       "      <td>3</td>\n",
       "      <td>20</td>\n",
       "      <td>Female</td>\n",
       "      <td>Undergraduate</td>\n",
       "      <td>USA</td>\n",
       "      <td>6.0</td>\n",
       "      <td>TikTok</td>\n",
       "      <td>Yes</td>\n",
       "      <td>5.0</td>\n",
       "      <td>5</td>\n",
       "      <td>Complicated</td>\n",
       "      <td>4</td>\n",
       "      <td>9</td>\n",
       "    </tr>\n",
       "    <tr>\n",
       "      <th>3</th>\n",
       "      <td>4</td>\n",
       "      <td>18</td>\n",
       "      <td>Male</td>\n",
       "      <td>High School</td>\n",
       "      <td>UK</td>\n",
       "      <td>3.0</td>\n",
       "      <td>YouTube</td>\n",
       "      <td>No</td>\n",
       "      <td>7.0</td>\n",
       "      <td>7</td>\n",
       "      <td>Single</td>\n",
       "      <td>1</td>\n",
       "      <td>4</td>\n",
       "    </tr>\n",
       "    <tr>\n",
       "      <th>4</th>\n",
       "      <td>5</td>\n",
       "      <td>21</td>\n",
       "      <td>Male</td>\n",
       "      <td>Graduate</td>\n",
       "      <td>Canada</td>\n",
       "      <td>4.5</td>\n",
       "      <td>Facebook</td>\n",
       "      <td>Yes</td>\n",
       "      <td>6.0</td>\n",
       "      <td>6</td>\n",
       "      <td>In Relationship</td>\n",
       "      <td>2</td>\n",
       "      <td>7</td>\n",
       "    </tr>\n",
       "  </tbody>\n",
       "</table>\n",
       "</div>"
      ],
      "text/plain": [
       "   Student_ID  Age  Gender Academic_Level     Country  Avg_Daily_Usage_Hours  \\\n",
       "0           1   19  Female  Undergraduate  Bangladesh                    5.2   \n",
       "1           2   22    Male       Graduate       India                    2.1   \n",
       "2           3   20  Female  Undergraduate         USA                    6.0   \n",
       "3           4   18    Male    High School          UK                    3.0   \n",
       "4           5   21    Male       Graduate      Canada                    4.5   \n",
       "\n",
       "  Most_Used_Platform Affects_Academic_Performance  Sleep_Hours_Per_Night  \\\n",
       "0          Instagram                          Yes                    6.5   \n",
       "1            Twitter                           No                    7.5   \n",
       "2             TikTok                          Yes                    5.0   \n",
       "3            YouTube                           No                    7.0   \n",
       "4           Facebook                          Yes                    6.0   \n",
       "\n",
       "   Mental_Health_Score Relationship_Status  Conflicts_Over_Social_Media  \\\n",
       "0                    6     In Relationship                            3   \n",
       "1                    8              Single                            0   \n",
       "2                    5         Complicated                            4   \n",
       "3                    7              Single                            1   \n",
       "4                    6     In Relationship                            2   \n",
       "\n",
       "   Addicted_Score  \n",
       "0               8  \n",
       "1               3  \n",
       "2               9  \n",
       "3               4  \n",
       "4               7  "
      ]
     },
     "execution_count": 2,
     "metadata": {},
     "output_type": "execute_result"
    }
   ],
   "source": [
    "#\"Top 5 Records of the Dataset\"\n",
    "import pandas as pd\n",
    "\n",
    "df = pd.read_csv(r\"C:\\Users\\Ayusha\\Documents\\Social Media.csv\")\n",
    "print(df)\n",
    "df.head(5)"
   ]
  },
  {
   "cell_type": "code",
   "execution_count": 1,
   "id": "9f83d249-d42e-4b12-8e41-bca677b264cb",
   "metadata": {},
   "outputs": [
    {
     "name": "stdout",
     "output_type": "stream",
     "text": [
      "     Student_ID  Age  Gender Academic_Level Country  Avg_Daily_Usage_Hours  \\\n",
      "700         701   20  Female  Undergraduate   Italy                    4.7   \n",
      "701         702   23    Male       Graduate  Russia                    6.8   \n",
      "702         703   21  Female  Undergraduate   China                    5.6   \n",
      "703         704   24    Male       Graduate   Japan                    4.3   \n",
      "704         705   19  Female  Undergraduate  Poland                    6.2   \n",
      "\n",
      "    Most_Used_Platform Affects_Academic_Performance  Sleep_Hours_Per_Night  \\\n",
      "700             TikTok                           No                    7.2   \n",
      "701          Instagram                          Yes                    5.9   \n",
      "702             WeChat                          Yes                    6.7   \n",
      "703            Twitter                           No                    7.5   \n",
      "704           Facebook                          Yes                    6.3   \n",
      "\n",
      "     Mental_Health_Score Relationship_Status  Conflicts_Over_Social_Media  \\\n",
      "700                    7     In Relationship                            2   \n",
      "701                    4              Single                            5   \n",
      "702                    6     In Relationship                            3   \n",
      "703                    8              Single                            2   \n",
      "704                    5              Single                            4   \n",
      "\n",
      "     Addicted_Score  \n",
      "700               5  \n",
      "701               9  \n",
      "702               7  \n",
      "703               4  \n",
      "704               8  \n"
     ]
    }
   ],
   "source": [
    "#\"Last 5 Records of the Dataset\"\n",
    "import pandas as pd\n",
    "\n",
    "df = pd.read_csv(r\"C:\\Users\\Ayusha\\Documents\\Social Media.csv\")\n",
    "print(df.tail(5))"
   ]
  },
  {
   "cell_type": "code",
   "execution_count": 6,
   "id": "feb404fe-d6d8-49dd-8617-0f268c18d966",
   "metadata": {},
   "outputs": [
    {
     "name": "stdout",
     "output_type": "stream",
     "text": [
      "<class 'pandas.core.frame.DataFrame'>\n",
      "RangeIndex: 705 entries, 0 to 704\n",
      "Data columns (total 13 columns):\n",
      " #   Column                        Non-Null Count  Dtype  \n",
      "---  ------                        --------------  -----  \n",
      " 0   Student_ID                    705 non-null    int64  \n",
      " 1   Age                           705 non-null    int64  \n",
      " 2   Gender                        705 non-null    object \n",
      " 3   Academic_Level                705 non-null    object \n",
      " 4   Country                       705 non-null    object \n",
      " 5   Avg_Daily_Usage_Hours         705 non-null    float64\n",
      " 6   Most_Used_Platform            705 non-null    object \n",
      " 7   Affects_Academic_Performance  705 non-null    object \n",
      " 8   Sleep_Hours_Per_Night         705 non-null    float64\n",
      " 9   Mental_Health_Score           705 non-null    int64  \n",
      " 10  Relationship_Status           705 non-null    object \n",
      " 11  Conflicts_Over_Social_Media   705 non-null    int64  \n",
      " 12  Addicted_Score                705 non-null    int64  \n",
      "dtypes: float64(2), int64(5), object(6)\n",
      "memory usage: 71.7+ KB\n",
      "None\n"
     ]
    }
   ],
   "source": [
    "#shows dataset structure \n",
    "import pandas as pd\n",
    "\n",
    "df = pd.read_csv(r\"C:\\Users\\Ayusha\\Documents\\Social Media.csv\")\n",
    "print(df.info())"
   ]
  },
  {
   "cell_type": "code",
   "execution_count": 7,
   "id": "85fe8e25-f5d7-426a-82b7-4a990a629a8b",
   "metadata": {},
   "outputs": [
    {
     "name": "stdout",
     "output_type": "stream",
     "text": [
      "       Student_ID         Age  Avg_Daily_Usage_Hours  Sleep_Hours_Per_Night  \\\n",
      "count  705.000000  705.000000             705.000000             705.000000   \n",
      "mean   353.000000   20.659574               4.918723               6.868936   \n",
      "std    203.660256    1.399217               1.257395               1.126848   \n",
      "min      1.000000   18.000000               1.500000               3.800000   \n",
      "25%    177.000000   19.000000               4.100000               6.000000   \n",
      "50%    353.000000   21.000000               4.800000               6.900000   \n",
      "75%    529.000000   22.000000               5.800000               7.700000   \n",
      "max    705.000000   24.000000               8.500000               9.600000   \n",
      "\n",
      "       Mental_Health_Score  Conflicts_Over_Social_Media  Addicted_Score  \n",
      "count           705.000000                   705.000000      705.000000  \n",
      "mean              6.226950                     2.849645        6.436879  \n",
      "std               1.105055                     0.957968        1.587165  \n",
      "min               4.000000                     0.000000        2.000000  \n",
      "25%               5.000000                     2.000000        5.000000  \n",
      "50%               6.000000                     3.000000        7.000000  \n",
      "75%               7.000000                     4.000000        8.000000  \n",
      "max               9.000000                     5.000000        9.000000  \n"
     ]
    }
   ],
   "source": [
    "#\"Statistical Summary of Numerical Columns\"\n",
    "import pandas as pd\n",
    "\n",
    "df = pd.read_csv(r\"C:\\Users\\Ayusha\\Documents\\Social Media.csv\")\n",
    "print(df.describe())"
   ]
  },
  {
   "cell_type": "code",
   "execution_count": 2,
   "id": "336cb185-722a-4713-98db-5c773507451b",
   "metadata": {},
   "outputs": [
    {
     "name": "stdout",
     "output_type": "stream",
     "text": [
      "shape:(705, 13)\n",
      "Columns Name:Index(['Student_ID', 'Age', 'Gender', 'Academic_Level', 'Country',\n",
      "       'Avg_Daily_Usage_Hours', 'Most_Used_Platform',\n",
      "       'Affects_Academic_Performance', 'Sleep_Hours_Per_Night',\n",
      "       'Mental_Health_Score', 'Relationship_Status',\n",
      "       'Conflicts_Over_Social_Media', 'Addicted_Score'],\n",
      "      dtype='object')\n"
     ]
    }
   ],
   "source": [
    "#\"Dataset Dimensions and Column Names\"\n",
    "import pandas as pd\n",
    "df = pd.read_csv(r\"C:\\Users\\Ayusha\\Documents\\Social Media.csv\")\n",
    "print(f'shape:{df.shape}')\n",
    "print(f'Columns Name:{df.columns}')\n"
   ]
  },
  {
   "cell_type": "code",
   "execution_count": 8,
   "id": "db8f20ed-c5bb-4bf9-b2bc-68e9d106b5f8",
   "metadata": {},
   "outputs": [
    {
     "name": "stdout",
     "output_type": "stream",
     "text": [
      "0      Bangladesh\n",
      "1           India\n",
      "2             USA\n",
      "3              UK\n",
      "4          Canada\n",
      "          ...    \n",
      "700         Italy\n",
      "701        Russia\n",
      "702         China\n",
      "703         Japan\n",
      "704        Poland\n",
      "Name: Country, Length: 705, dtype: object\n"
     ]
    }
   ],
   "source": [
    "#Extraxt Single Column\n",
    "import pandas as pd\n",
    "df = pd.read_csv(r\"C:\\Users\\Ayusha\\Documents\\Social Media.csv\")\n",
    "column =df[\"Country\"]\n",
    "print(column)"
   ]
  },
  {
   "cell_type": "code",
   "execution_count": 11,
   "id": "b46e1a7d-601b-4163-b1bd-6fa1b0a48e45",
   "metadata": {},
   "outputs": [
    {
     "name": "stdout",
     "output_type": "stream",
     "text": [
      "     Student_ID Academic_Level  Avg_Daily_Usage_Hours\n",
      "0             1  Undergraduate                    5.2\n",
      "1             2       Graduate                    2.1\n",
      "2             3  Undergraduate                    6.0\n",
      "3             4    High School                    3.0\n",
      "4             5       Graduate                    4.5\n",
      "..          ...            ...                    ...\n",
      "700         701  Undergraduate                    4.7\n",
      "701         702       Graduate                    6.8\n",
      "702         703  Undergraduate                    5.6\n",
      "703         704       Graduate                    4.3\n",
      "704         705  Undergraduate                    6.2\n",
      "\n",
      "[705 rows x 3 columns]\n"
     ]
    }
   ],
   "source": [
    "#Extraxt 2 or More columns\n",
    "import pandas as pd\n",
    "df = pd.read_csv(r\"C:\\Users\\Ayusha\\Documents\\Social Media.csv\")\n",
    "subset =df[[\"Student_ID\",\"Academic_Level\",\"Avg_Daily_Usage_Hours\"]]\n",
    "print(subset)"
   ]
  },
  {
   "cell_type": "code",
   "execution_count": 12,
   "id": "51cc89a8-eefb-4db7-ac28-ba5e1c0843bb",
   "metadata": {},
   "outputs": [
    {
     "name": "stdout",
     "output_type": "stream",
     "text": [
      "     Student_ID  Age  Gender Academic_Level     Country  \\\n",
      "0             1   19  Female  Undergraduate  Bangladesh   \n",
      "2             3   20  Female  Undergraduate         USA   \n",
      "5             6   19  Female  Undergraduate   Australia   \n",
      "7             8   20  Female  Undergraduate      Brazil   \n",
      "11           12   20  Female  Undergraduate       Spain   \n",
      "..          ...  ...     ...            ...         ...   \n",
      "698         699   19  Female  Undergraduate      Canada   \n",
      "699         700   22    Male       Graduate          UK   \n",
      "701         702   23    Male       Graduate      Russia   \n",
      "702         703   21  Female  Undergraduate       China   \n",
      "704         705   19  Female  Undergraduate      Poland   \n",
      "\n",
      "     Avg_Daily_Usage_Hours Most_Used_Platform Affects_Academic_Performance  \\\n",
      "0                      5.2          Instagram                          Yes   \n",
      "2                      6.0             TikTok                          Yes   \n",
      "5                      7.2          Instagram                          Yes   \n",
      "7                      5.8           Snapchat                          Yes   \n",
      "11                     5.5             TikTok                          Yes   \n",
      "..                     ...                ...                          ...   \n",
      "698                    5.7          Instagram                          Yes   \n",
      "699                    6.2            Twitter                          Yes   \n",
      "701                    6.8          Instagram                          Yes   \n",
      "702                    5.6             WeChat                          Yes   \n",
      "704                    6.2           Facebook                          Yes   \n",
      "\n",
      "     Sleep_Hours_Per_Night  Mental_Health_Score Relationship_Status  \\\n",
      "0                      6.5                    6     In Relationship   \n",
      "2                      5.0                    5         Complicated   \n",
      "5                      4.5                    4         Complicated   \n",
      "7                      6.0                    6     In Relationship   \n",
      "11                     5.8                    6     In Relationship   \n",
      "..                     ...                  ...                 ...   \n",
      "698                    6.6                    6              Single   \n",
      "699                    6.3                    5              Single   \n",
      "701                    5.9                    4              Single   \n",
      "702                    6.7                    6     In Relationship   \n",
      "704                    6.3                    5              Single   \n",
      "\n",
      "     Conflicts_Over_Social_Media  Addicted_Score  \n",
      "0                              3               8  \n",
      "2                              4               9  \n",
      "5                              5               9  \n",
      "7                              2               8  \n",
      "11                             2               8  \n",
      "..                           ...             ...  \n",
      "698                            3               7  \n",
      "699                            4               8  \n",
      "701                            5               9  \n",
      "702                            3               7  \n",
      "704                            4               8  \n",
      "\n",
      "[294 rows x 13 columns]\n"
     ]
    }
   ],
   "source": [
    "#\"Users with High Daily Usage\n",
    "import pandas as pd\n",
    "df = pd.read_csv(r\"C:\\Users\\Ayusha\\Documents\\Social Media.csv\")\n",
    "Max_Avg_DailyUsage= df[df[\"Avg_Daily_Usage_Hours\"]>5]\n",
    "print(Max_Avg_DailyUsage)"
   ]
  },
  {
   "cell_type": "code",
   "execution_count": 15,
   "id": "6a9426af-64a5-4933-88e4-66c6ca6944de",
   "metadata": {},
   "outputs": [
    {
     "name": "stdout",
     "output_type": "stream",
     "text": [
      "     Student_ID  Age  Gender Academic_Level     Country  \\\n",
      "0             1   19  Female  Undergraduate  Bangladesh   \n",
      "2             3   20  Female  Undergraduate         USA   \n",
      "5             6   19  Female  Undergraduate   Australia   \n",
      "7             8   20  Female  Undergraduate      Brazil   \n",
      "11           12   20  Female  Undergraduate       Spain   \n",
      "..          ...  ...     ...            ...         ...   \n",
      "694         695   20  Female  Undergraduate      Turkey   \n",
      "696         697   21  Female  Undergraduate      Mexico   \n",
      "699         700   22    Male       Graduate          UK   \n",
      "701         702   23    Male       Graduate      Russia   \n",
      "704         705   19  Female  Undergraduate      Poland   \n",
      "\n",
      "     Avg_Daily_Usage_Hours Most_Used_Platform Affects_Academic_Performance  \\\n",
      "0                      5.2          Instagram                          Yes   \n",
      "2                      6.0             TikTok                          Yes   \n",
      "5                      7.2          Instagram                          Yes   \n",
      "7                      5.8           Snapchat                          Yes   \n",
      "11                     5.5             TikTok                          Yes   \n",
      "..                     ...                ...                          ...   \n",
      "694                    6.6          Instagram                          Yes   \n",
      "696                    6.3             TikTok                          Yes   \n",
      "699                    6.2            Twitter                          Yes   \n",
      "701                    6.8          Instagram                          Yes   \n",
      "704                    6.2           Facebook                          Yes   \n",
      "\n",
      "     Sleep_Hours_Per_Night  Mental_Health_Score Relationship_Status  \\\n",
      "0                      6.5                    6     In Relationship   \n",
      "2                      5.0                    5         Complicated   \n",
      "5                      4.5                    4         Complicated   \n",
      "7                      6.0                    6     In Relationship   \n",
      "11                     5.8                    6     In Relationship   \n",
      "..                     ...                  ...                 ...   \n",
      "694                    6.1                    5              Single   \n",
      "696                    6.2                    5              Single   \n",
      "699                    6.3                    5              Single   \n",
      "701                    5.9                    4              Single   \n",
      "704                    6.3                    5              Single   \n",
      "\n",
      "     Conflicts_Over_Social_Media  Addicted_Score  \n",
      "0                              3               8  \n",
      "2                              4               9  \n",
      "5                              5               9  \n",
      "7                              2               8  \n",
      "11                             2               8  \n",
      "..                           ...             ...  \n",
      "694                            4               8  \n",
      "696                            4               8  \n",
      "699                            4               8  \n",
      "701                            5               9  \n",
      "704                            4               8  \n",
      "\n",
      "[181 rows x 13 columns]\n"
     ]
    }
   ],
   "source": [
    "#\"Users with High Daily Usage and High Addiction Score\"\n",
    "import pandas as pd\n",
    "df = pd.read_csv(r\"C:\\Users\\Ayusha\\Documents\\Social Media.csv\")\n",
    "Filter = df[(df[\"Avg_Daily_Usage_Hours\"]>5) & (df[\"Addicted_Score\"]>7)]\n",
    "print(Filter)"
   ]
  },
  {
   "cell_type": "code",
   "execution_count": 3,
   "id": "05b39cb5-ed99-4102-a47a-414b48704324",
   "metadata": {},
   "outputs": [
    {
     "name": "stdout",
     "output_type": "stream",
     "text": [
      "     Student_ID    Age  Gender  Academic_Level  Country  \\\n",
      "0         False  False   False           False    False   \n",
      "1         False  False   False           False    False   \n",
      "2         False  False   False           False    False   \n",
      "3         False  False   False           False    False   \n",
      "4         False  False   False           False    False   \n",
      "..          ...    ...     ...             ...      ...   \n",
      "700       False  False   False           False    False   \n",
      "701       False  False   False           False    False   \n",
      "702       False  False   False           False    False   \n",
      "703       False  False   False           False    False   \n",
      "704       False  False   False           False    False   \n",
      "\n",
      "     Avg_Daily_Usage_Hours  Most_Used_Platform  Affects_Academic_Performance  \\\n",
      "0                    False               False                         False   \n",
      "1                    False               False                         False   \n",
      "2                    False               False                         False   \n",
      "3                    False               False                         False   \n",
      "4                    False               False                         False   \n",
      "..                     ...                 ...                           ...   \n",
      "700                  False               False                         False   \n",
      "701                  False               False                         False   \n",
      "702                  False               False                         False   \n",
      "703                  False               False                         False   \n",
      "704                  False               False                         False   \n",
      "\n",
      "     Sleep_Hours_Per_Night  Mental_Health_Score  Relationship_Status  \\\n",
      "0                    False                False                False   \n",
      "1                    False                False                False   \n",
      "2                    False                False                False   \n",
      "3                    False                False                False   \n",
      "4                    False                False                False   \n",
      "..                     ...                  ...                  ...   \n",
      "700                  False                False                False   \n",
      "701                  False                False                False   \n",
      "702                  False                False                False   \n",
      "703                  False                False                False   \n",
      "704                  False                False                False   \n",
      "\n",
      "     Conflicts_Over_Social_Media  Addicted_Score  \n",
      "0                          False           False  \n",
      "1                          False           False  \n",
      "2                          False           False  \n",
      "3                          False           False  \n",
      "4                          False           False  \n",
      "..                           ...             ...  \n",
      "700                        False           False  \n",
      "701                        False           False  \n",
      "702                        False           False  \n",
      "703                        False           False  \n",
      "704                        False           False  \n",
      "\n",
      "[705 rows x 13 columns]\n"
     ]
    }
   ],
   "source": [
    "#Find Null Values\n",
    "import pandas as pd\n",
    "df = pd.read_csv(r\"C:\\Users\\Ayusha\\Documents\\Social Media.csv\")\n",
    "print(df.isnull())"
   ]
  },
  {
   "cell_type": "code",
   "execution_count": 13,
   "id": "d4e8abd5-6245-4e0a-a2e2-a0ff4637c5df",
   "metadata": {},
   "outputs": [
    {
     "name": "stdout",
     "output_type": "stream",
     "text": [
      "     Student_ID  Age  Gender Academic_Level    Country  Avg_Daily_Usage_Hours  \\\n",
      "70           71   18    Male    High School     Latvia                    5.4   \n",
      "103         104   18  Female    High School      Syria                    5.6   \n",
      "44           45   18    Male    High School  Argentina                    5.5   \n",
      "32           33   18    Male    High School  Indonesia                    5.4   \n",
      "96           97   18    Male    High School     Kuwait                    5.7   \n",
      "..          ...  ...     ...            ...        ...                    ...   \n",
      "575         576   24    Male       Graduate     Turkey                    6.8   \n",
      "655         656   24    Male       Graduate      Spain                    6.5   \n",
      "661         662   24    Male       Graduate        USA                    5.4   \n",
      "685         686   24    Male       Graduate      China                    5.5   \n",
      "624         625   24  Female       Graduate      India                    7.0   \n",
      "\n",
      "    Most_Used_Platform Affects_Academic_Performance  Sleep_Hours_Per_Night  \\\n",
      "70            Snapchat                          Yes                    5.5   \n",
      "103          Instagram                          Yes                    5.4   \n",
      "44              TikTok                          Yes                    5.3   \n",
      "32              TikTok                          Yes                    5.4   \n",
      "96            Snapchat                          Yes                    5.3   \n",
      "..                 ...                          ...                    ...   \n",
      "575             TikTok                          Yes                    6.2   \n",
      "655           Facebook                          Yes                    6.1   \n",
      "661            Twitter                          Yes                    6.8   \n",
      "685             WeChat                          Yes                    6.8   \n",
      "624             TikTok                          Yes                    5.8   \n",
      "\n",
      "     Mental_Health_Score Relationship_Status  Conflicts_Over_Social_Media  \\\n",
      "70                     5              Single                            4   \n",
      "103                    5              Single                            4   \n",
      "44                     5              Single                            4   \n",
      "32                     5         Complicated                            4   \n",
      "96                     5     In Relationship                            4   \n",
      "..                   ...                 ...                          ...   \n",
      "575                    5              Single                            4   \n",
      "655                    5              Single                            4   \n",
      "661                    6     In Relationship                            3   \n",
      "685                    6     In Relationship                            3   \n",
      "624                    4              Single                            5   \n",
      "\n",
      "     Addicted_Score  \n",
      "70                8  \n",
      "103               8  \n",
      "44                8  \n",
      "32                8  \n",
      "96                8  \n",
      "..              ...  \n",
      "575               8  \n",
      "655               8  \n",
      "661               7  \n",
      "685               7  \n",
      "624               9  \n",
      "\n",
      "[705 rows x 13 columns]\n"
     ]
    }
   ],
   "source": [
    "#Sorting Age By Ascending Order\n",
    "import pandas as pd\n",
    "df = pd.read_csv(r\"C:\\Users\\Ayusha\\Documents\\Social Media.csv\")\n",
    "df.sort_values(by = \"Age\",ascending=True, inplace=True)\n",
    "print(df)"
   ]
  },
  {
   "cell_type": "code",
   "execution_count": 16,
   "id": "e8402426-f6a7-4302-840a-f26f241695fc",
   "metadata": {},
   "outputs": [
    {
     "name": "stdout",
     "output_type": "stream",
     "text": [
      "6.436879432624114\n"
     ]
    }
   ],
   "source": [
    "#\"Average Addicted Score\"\n",
    "import pandas as pd\n",
    "df = pd.read_csv(r\"C:\\Users\\Ayusha\\Documents\\Social Media.csv\")\n",
    "print(df[\"Addicted_Score \"].mean())\n"
   ]
  },
  {
   "cell_type": "code",
   "execution_count": 18,
   "id": "c6a34e78-4286-4e5a-8c70-90a32b436242",
   "metadata": {},
   "outputs": [
    {
     "name": "stdout",
     "output_type": "stream",
     "text": [
      "705\n"
     ]
    }
   ],
   "source": [
    "import pandas as pd\n",
    "df = pd.read_csv(r\"C:\\Users\\Ayusha\\Documents\\Social Media.csv\")\n",
    "print(df[\"Student_ID\"].count())\n"
   ]
  },
  {
   "cell_type": "code",
   "execution_count": 19,
   "id": "d185bb61-c44c-4b70-a7b2-6bdb496ce6d8",
   "metadata": {},
   "outputs": [
    {
     "name": "stdout",
     "output_type": "stream",
     "text": [
      "4390\n"
     ]
    }
   ],
   "source": [
    "#\"Total Mental Health Score\"\n",
    "import pandas as pd\n",
    "df = pd.read_csv(r\"C:\\Users\\Ayusha\\Documents\\Social Media.csv\")\n",
    "print(df[\"Mental_Health_Score\"].sum())"
   ]
  },
  {
   "cell_type": "code",
   "execution_count": 24,
   "id": "863eb6dc-91a3-44f1-86e4-670843ffa574",
   "metadata": {},
   "outputs": [
    {
     "name": "stdout",
     "output_type": "stream",
     "text": [
      "9\n"
     ]
    }
   ],
   "source": [
    "#\"Maximum Addicted Score\"\n",
    "import pandas as pd\n",
    "df = pd.read_csv(r\"C:\\Users\\Ayusha\\Documents\\Social Media.csv\")\n",
    "print(df[\"Addicted_Score\"].max())"
   ]
  },
  {
   "cell_type": "code",
   "execution_count": 25,
   "id": "12f2891b-712c-4b73-a412-2b61a72ece7a",
   "metadata": {},
   "outputs": [
    {
     "name": "stdout",
     "output_type": "stream",
     "text": [
      "2\n"
     ]
    }
   ],
   "source": [
    "#\"Minimum Addicted Score\"\n",
    "import pandas as pd\n",
    "df = pd.read_csv(r\"C:\\Users\\Ayusha\\Documents\\Social Media.csv\")\n",
    "print(df[\"Addicted_Score\"].min())"
   ]
  },
  {
   "cell_type": "code",
   "execution_count": 27,
   "id": "b719928c-e2aa-4826-a98e-0d1c269b004d",
   "metadata": {},
   "outputs": [
    {
     "name": "stdout",
     "output_type": "stream",
     "text": [
      "Platform used by the maximum number of students: Instagram\n",
      "Number of students using it: 249\n"
     ]
    }
   ],
   "source": [
    "#\"Social Media Platform Used by the Highest Number of Students\"\n",
    "import pandas as pd\n",
    "\n",
    "df = pd.read_csv(r\"C:\\Users\\Ayusha\\Documents\\Social Media.csv\")\n",
    "\n",
    "# Count how many students use each platform\n",
    "platform_counts = df[\"Most_Used_Platform\"].value_counts()\n",
    "\n",
    "# Get the platform with the maximum count\n",
    "most_used_platform = platform_counts.idxmax()  # platform name\n",
    "max_count = platform_counts.max()              # number of students\n",
    "\n",
    "print(f\"Platform used by the maximum number of students: {most_used_platform}\")\n",
    "print(f\"Number of students using it: {max_count}\")"
   ]
  },
  {
   "cell_type": "code",
   "execution_count": 36,
   "id": "bfb6a3ff-72a0-4de3-b986-9bea25cf1c37",
   "metadata": {},
   "outputs": [
    {
     "name": "stdout",
     "output_type": "stream",
     "text": [
      "Most_Used_Platform\n",
      "Facebook     123\n",
      "Instagram    249\n",
      "KakaoTalk     12\n",
      "LINE          12\n",
      "LinkedIn      21\n",
      "Snapchat      13\n",
      "TikTok       154\n",
      "Twitter       30\n",
      "VKontakte     12\n",
      "WeChat        15\n",
      "WhatsApp      54\n",
      "YouTube       10\n",
      "Name: Student_ID, dtype: int64\n"
     ]
    }
   ],
   "source": [
    "#\"Count of Students by Most Used Social Media Platform\"\n",
    "import pandas as pd\n",
    "df = pd.read_csv(r\"C:\\Users\\Ayusha\\Documents\\Social Media.csv\")\n",
    "Grouped = df.groupby(\"Most_Used_Platform\")[\"Student_ID\"].count()\n",
    "print(Grouped)"
   ]
  },
  {
   "cell_type": "code",
   "execution_count": null,
   "id": "2c7dcd5b-cb75-4df1-a559-8e7b367e8d9b",
   "metadata": {},
   "outputs": [],
   "source": []
  }
 ],
 "metadata": {
  "kernelspec": {
   "display_name": "Python 3 (ipykernel)",
   "language": "python",
   "name": "python3"
  },
  "language_info": {
   "codemirror_mode": {
    "name": "ipython",
    "version": 3
   },
   "file_extension": ".py",
   "mimetype": "text/x-python",
   "name": "python",
   "nbconvert_exporter": "python",
   "pygments_lexer": "ipython3",
   "version": "3.12.7"
  }
 },
 "nbformat": 4,
 "nbformat_minor": 5
}
